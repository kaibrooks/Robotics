{
 "cells": [
  {
   "cell_type": "code",
   "execution_count": 1,
   "metadata": {},
   "outputs": [],
   "source": [
    "# Don't blame me\n",
    "#           -Kai\n",
    "#\n",
    "# github.com/kaibrooks"
   ]
  },
  {
   "cell_type": "code",
   "execution_count": 2,
   "metadata": {},
   "outputs": [
    {
     "name": "stdout",
     "output_type": "stream",
     "text": [
      "TensorFlow version 2.0.0\n",
      "Keras version 2.2.4-tf\n",
      "SciPy version 1.3.3\n",
      "Numpy version 1.17.4\n",
      "Pillow version 6.2.1\n"
     ]
    }
   ],
   "source": [
    "from __future__ import absolute_import, division, print_function, unicode_literals\n",
    "# use tensorflow and keras as a high-level api to make it faster to get something running\n",
    "import tensorflow as tf\n",
    "import threading\n",
    "import scipy\n",
    "import PIL # this imports Pillow, but for some dumb reason needs 'PIL'\n",
    "from PIL import Image\n",
    "from tensorflow import keras as keras\n",
    "from tensorflow.keras.datasets import cifar10\n",
    "from tensorflow.keras.preprocessing.image import ImageDataGenerator\n",
    "from tensorflow.keras.models import Sequential\n",
    "from tensorflow.keras.layers import Dense, Dropout, Activation, Flatten\n",
    "from tensorflow.keras.layers import Conv2D, MaxPooling2D\n",
    "from datetime import datetime # so we know how much time we've wasted\n",
    "\n",
    "import numpy as np\n",
    "import matplotlib.pyplot as plt # plot things\n",
    "\n",
    "import os\n",
    "\n",
    "# might be good to know\n",
    "\n",
    "print('TensorFlow version', tf.__version__)\n",
    "print('Keras version', keras.__version__)\n",
    "print('SciPy version', scipy.__version__)\n",
    "print('Numpy version', np.__version__) \n",
    "print('Pillow version', PIL.__version__) \n",
    "\n",
    "\n",
    "try:\n",
    "  # %tensorflow_version only exists in google colab, see if we can use it or not\n",
    "  %tensorflow_version 2.x\n",
    "except Exception:\n",
    "  pass"
   ]
  },
  {
   "cell_type": "code",
   "execution_count": 9,
   "metadata": {},
   "outputs": [],
   "source": [
    "## all the settings, this section is the secret sauce\n",
    "# hyperparameters\n",
    "batch_size = 16  # 16?\n",
    "num_classes = 3 # how many classes we're detecting\n",
    "epochs = 4 # 100\n",
    "num_predictions = 20 # 20\n",
    "learning_rate = 0.0001 #0.0001\n",
    "decay = 1e-6 # 1e-6\n",
    "imSize = 256 # 256, resize images for training\n",
    "\n",
    "# sub-parameters\n",
    "use_multiprocessing = False # F parallelize or not\n",
    "workers = 1 # 1 workers to use for training\n",
    "\n",
    "# other settings\n",
    "data_augmentation = False # T make permutations to train better\n",
    "threadSafe = False # F make thread safe, sometimes produces errors\n",
    "fastTrain = False # F 3x less time, 0.75x as accurate ish\n",
    "\n",
    "# output\n",
    "save_dir = os.path.join(os.getcwd(), 'trained_models')\n",
    "#model_name = 'keras_trained_model_' + now.strftime(\"%d-%b-%Y_%H:%M:%S\") + '.h5' # this is below\n"
   ]
  },
  {
   "cell_type": "code",
   "execution_count": 10,
   "metadata": {},
   "outputs": [
    {
     "name": "stdout",
     "output_type": "stream",
     "text": [
      "Getting data from /tf/notebooks\n",
      "Train: \n",
      "Found 1280 images belonging to 3 classes.\n",
      "Validate: \n",
      "Found 89 images belonging to 3 classes.\n",
      "Test:\n",
      "Found 28 images belonging to 3 classes.\n"
     ]
    }
   ],
   "source": [
    "## load the data\n",
    "\n",
    "print('Getting data from', os.getcwd())\n",
    "datagen = ImageDataGenerator(rescale = 1. / 255) # rescale images to squares for display\n",
    "\n",
    "# load and iterate training dataset\n",
    "print('Train: ')\n",
    "train_it = datagen.flow_from_directory('data/train/', class_mode='categorical', batch_size=batch_size, target_size=(imSize, imSize))\n",
    "\n",
    "# load and iterate validation dataset\n",
    "print('Validate: ')\n",
    "val_it = datagen.flow_from_directory('data/validation/', class_mode='categorical', batch_size=batch_size, target_size=(imSize, imSize))\n",
    "\n",
    "# load and iterate test dataset\n",
    "print('Test:')\n",
    "test_it = datagen.flow_from_directory('data/test/', class_mode='categorical', batch_size=batch_size)"
   ]
  },
  {
   "cell_type": "code",
   "execution_count": 11,
   "metadata": {
    "scrolled": false
   },
   "outputs": [
    {
     "data": {
      "image/png": "[encoded data removed]",
      "text/plain": [
       "<Figure size 1080x1080 with 16 Axes>"
      ]
     },
     "metadata": {},
     "output_type": "display_data"
    },
    {
     "name": "stdout",
     "output_type": "stream",
     "text": [
      "We're almost at the training step. If this image isn't 100% correct the entire training will be a waste\n"
     ]
    }
   ],
   "source": [
    "class_names = ['blue','cheese','pink']\n",
    "(train_images, train_labels) = train_it.next()\n",
    "plt.figure(figsize=(15,15))\n",
    "for i in range(batch_size):\n",
    "    plt.subplot(4,4,i+1)\n",
    "    plt.xticks([])\n",
    "    plt.yticks([])\n",
    "    plt.grid(False)\n",
    "    plt.imshow(train_images[i], cmap=plt.cm.binary)\n",
    "    plt.xlabel(class_names[np.argmax(train_labels[i])]) # int because class number is normally a float\n",
    "    #plt.xlabel(train_labels[i])\n",
    "plt.show()\n",
    "print('We\\'re almost at the training step. If this image isn\\'t 100% correct the entire training will be a waste')"
   ]
  },
  {
   "cell_type": "code",
   "execution_count": null,
   "metadata": {},
   "outputs": [],
   "source": [
    "## this area is actually the other half of the secret sauce\n",
    "# set up model\n",
    "if fastTrain:\n",
    "    print('Using fast training algorithm, model will be less accurate')\n",
    "    model = Sequential()\n",
    "    model.add(Flatten())\n",
    "    model.add(Dense(128))\n",
    "    model.add(Activation('relu'))\n",
    "    model.add(Dropout(0.5))\n",
    "    model.add(Dense(num_classes)) # convergence layer\n",
    "    model.add(Activation('softmax'))\n",
    "    \n",
    "elif not fastTrain:\n",
    "    model = Sequential()\n",
    "    model.add(Conv2D(32, (3, 3), padding='same',\n",
    "                     input_shape=train_images.shape[1:]))\n",
    "    model.add(Activation('relu'))\n",
    "    model.add(Conv2D(32, (3, 3)))\n",
    "    model.add(Activation('relu'))\n",
    "    model.add(MaxPooling2D(pool_size=(2, 2)))\n",
    "    model.add(Dropout(0.25))\n",
    "\n",
    "    model.add(Conv2D(64, (3, 3), padding='same'))\n",
    "    model.add(Activation('relu'))\n",
    "    model.add(Conv2D(64, (3, 3)))\n",
    "    model.add(Activation('relu'))\n",
    "    model.add(MaxPooling2D(pool_size=(2, 2)))\n",
    "    model.add(Dropout(0.25))\n",
    "\n",
    "    model.add(Flatten())\n",
    "    model.add(Dense(512))\n",
    "    model.add(Activation('relu'))\n",
    "    model.add(Dropout(0.5))\n",
    "    model.add(Dense(num_classes)) # convergence layer\n",
    "    model.add(Activation('softmax'))\n",
    "\n",
    "if fastTrain: print('Using fast algorithm, output will be less accurate')\n",
    "print('Model in the chamber:', model)\n",
    "print('Ready to train')"
   ]
  },
  {
   "cell_type": "code",
   "execution_count": null,
   "metadata": {
    "scrolled": true
   },
   "outputs": [],
   "source": [
    "# initiate RMSprop optimizer\n",
    "opt = keras.optimizers.RMSprop(learning_rate=learning_rate, decay=decay)\n",
    "\n",
    "# Let's train the model using RMSprop\n",
    "model.compile(loss='categorical_crossentropy',\n",
    "              optimizer=opt,\n",
    "              metrics=['accuracy'])\n",
    "\n",
    "#x_train = x_train.astype('float32')\n",
    "#x_test = x_test.astype('float32')\n",
    "#x_train /= 255\n",
    "#x_test /= 255\n",
    "\n",
    "\n",
    "\n",
    "# Compute quantities required for feature-wise normalization\n",
    "# (std, mean, and principal components if ZCA whitening is applied).\n",
    "#datagen.fit(x_train)\n",
    "\n",
    "now = datetime.now()\n",
    "print(\"Starting training at\", now.strftime(\"%d-%b-%Y %H:%M:%S\")) # lets see how long this takes\n",
    "\n",
    "\n",
    "\n",
    "# fit model\n",
    "model.fit_generator(train_it, \n",
    "                    epochs=epochs, \n",
    "#                    steps_per_epoch=16, \n",
    "                    validation_data=val_it, \n",
    "                    validation_steps=8,\n",
    "                    workers=workers)\n",
    "\n",
    "\n",
    "\n",
    "(x_test, y_test) = val_it.next()\n",
    "# Fit the model on the batches generated by datagen.flow().\n",
    "#model.fit_generator(datagen.flow(train_images, train_labels,\n",
    "#                    batch_size=batch_size),\n",
    "#                    epochs=epochs,\n",
    "#                    validation_data=(x_test, y_test),\n",
    "#                    use_multiprocessing=use_multiprocessing,\n",
    "#                    max_queue_size=10,\n",
    "#                    workers=workers) # workers = 1 or 4?\n",
    "\n",
    "\n",
    "\n",
    "then = datetime.now()\n",
    "print(\"Finished training at\", then.strftime(\"%d-%b-%Y %H:%M:%S\")) # lets see how long this took\n",
    "\n",
    "print('Model summary:')\n",
    "model.summary()"
   ]
  },
  {
   "cell_type": "code",
   "execution_count": null,
   "metadata": {
    "scrolled": true
   },
   "outputs": [],
   "source": [
    "## output\n",
    "# save model and weights\n",
    "model_name = now.strftime(\"%Y-%m-%d_%H-%M-%S\") + '_trainedmodel' + '.h5'\n",
    "\n",
    "if not os.path.isdir(save_dir):\n",
    "    os.makedirs(save_dir)\n",
    "model_path = os.path.join(save_dir, model_name)\n",
    "model.save(model_path)\n",
    "print('Saved trained model at %s ' % model_path)\n",
    "size = os.path.getsize(model_path)\n",
    "print('Model is',round(size/1e+6),'MB')\n",
    "\n",
    "# save model log\n",
    "filename = 'trained_models/' + now.strftime(\"%Y-%m-%d_%H-%M-%S\") + '_modelsummary.txt'\n",
    "\n",
    "with open(filename,'w') as fh:\n",
    "    # Pass the file handle in as a lambda function to make it callable\n",
    "    model.summary(print_fn=lambda x: fh.write(x + '\\n'))"
   ]
  },
  {
   "cell_type": "code",
   "execution_count": null,
   "metadata": {},
   "outputs": [],
   "source": [
    "# Score trained model\n",
    "(test_images, test_labels) = test_it.next()\n",
    "scores = model.evaluate(test_images, test_labels, verbose=2)\n",
    "print('Test loss:', scores[0])\n",
    "print('Test accuracy:', scores[1])"
   ]
  },
  {
   "cell_type": "code",
   "execution_count": null,
   "metadata": {},
   "outputs": [],
   "source": [
    "## make a predictions\n",
    "predictions = model.predict(test_images) # load the data\n",
    "predictions[0] # predict the [0]th element, this outputs an array with each element being the confidence of being that class\n",
    "print('Class confidence for image 0:', predictions[0])\n",
    "print('\\nPrediction  :', np.argmax(predictions[0])) # output the most likely prediction\n",
    "print('Actual class:', np.argmax(test_labels))  # output what the answer actually is)"
   ]
  },
  {
   "cell_type": "code",
   "execution_count": null,
   "metadata": {
    "scrolled": false
   },
   "outputs": [],
   "source": [
    "## make a pinterest board of images and their classifications\n",
    "# set up first\n",
    "def plot_image(i, predictions_array, true_label, img):\n",
    "  predictions_array, true_label, img = predictions_array, np.argmax(true_label[i]), img[i]\n",
    "  plt.grid(False)\n",
    "  plt.xticks([])\n",
    "  plt.yticks([])\n",
    "\n",
    "  plt.imshow(img, cmap=plt.cm.binary)\n",
    "\n",
    "  predicted_label = np.argmax(predictions_array)\n",
    "  if predicted_label == true_label:\n",
    "    color = 'green'\n",
    "  else:\n",
    "    color = 'red'\n",
    "\n",
    "  plt.xlabel(\"{} {:2.0f}% ({})\".format(class_names[predicted_label],\n",
    "                                100*np.max(predictions_array),\n",
    "                                class_names[true_label]),\n",
    "                                color=color)\n",
    "\n",
    "def plot_value_array(i, predictions_array, true_label):\n",
    "  predictions_array, true_label = predictions_array, np.argmax(true_label[i])\n",
    "  plt.grid(False)\n",
    "  plt.xticks(range(len(class_names)))\n",
    "  plt.yticks([])\n",
    "  thisplot = plt.bar(range(len(class_names)), predictions_array, color=\"#777777\")\n",
    "  plt.ylim([0, 1])\n",
    "  predicted_label = np.argmax(predictions_array)\n",
    "\n",
    "  thisplot[predicted_label].set_color('red')\n",
    "  thisplot[int(true_label)].set_color('green')\n",
    "\n",
    "## plot a single image and its prediction\n",
    "#i = 0\n",
    "#plt.figure(figsize=(6,3))\n",
    "#plt.subplot(1,2,1)\n",
    "#plot_image(i, predictions[i], test_labels, test_images)\n",
    "#plt.subplot(1,2,2)\n",
    "#plot_value_array(i, predictions[i],  test_labels)\n",
    "#plt.show()\n",
    "\n",
    "# lets do another\n",
    "#i = 12\n",
    "#plt.figure(figsize=(6,3))\n",
    "#plt.subplot(1,2,1)\n",
    "#plot_image(i, predictions[i], test_labels, test_images)\n",
    "#plt.subplot(1,2,2)\n",
    "#plot_value_array(i, predictions[i],  test_labels)\n",
    "#plt.show()\n",
    "\n",
    "## show a bunch of predicted images and display a grid\n",
    "num_rows = 4 # increase this to show more\n",
    "num_cols = 3\n",
    "num_images = num_rows*num_cols\n",
    "plt.figure(figsize=(2*2*num_cols, 2*num_rows))\n",
    "for i in range(num_images):\n",
    "  plt.subplot(num_rows, 2*num_cols, 2*i+1)\n",
    "  plot_image(i, predictions[i], test_labels, test_images)\n",
    "  plt.subplot(num_rows, 2*num_cols, 2*i+2)\n",
    "  plot_value_array(i, predictions[i], test_labels)\n",
    "  _ = plt.xticks(range(len(class_names)), class_names, rotation=45)\n",
    "plt.tight_layout()\n",
    "plt.show()"
   ]
  },
  {
   "cell_type": "code",
   "execution_count": null,
   "metadata": {},
   "outputs": [],
   "source": []
  }
 ],
 "metadata": {
  "kernelspec": {
   "display_name": "Python 3",
   "language": "python",
   "name": "python3"
  },
  "language_info": {
   "codemirror_mode": {
    "name": "ipython",
    "version": 3
   },
   "file_extension": ".py",
   "mimetype": "text/x-python",
   "name": "python",
   "nbconvert_exporter": "python",
   "pygments_lexer": "ipython3",
   "version": "3.6.8"
  }
 },
 "nbformat": 4,
 "nbformat_minor": 2
}
